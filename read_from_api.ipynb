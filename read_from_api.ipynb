{
  "nbformat": 4,
  "nbformat_minor": 0,
  "metadata": {
    "colab": {
      "name": "read-from-api.ipynb",
      "provenance": [],
      "authorship_tag": "ABX9TyOlegx9zCjGHDK7NELWoIGw",
      "include_colab_link": true
    },
    "kernelspec": {
      "name": "python3",
      "display_name": "Python 3"
    }
  },
  "cells": [
    {
      "cell_type": "markdown",
      "metadata": {
        "id": "view-in-github",
        "colab_type": "text"
      },
      "source": [
        "<a href=\"https://colab.research.google.com/github/JuanchoGithub/mejuri-data-challenge/blob/master/read_from_api.ipynb\" target=\"_parent\"><img src=\"https://colab.research.google.com/assets/colab-badge.svg\" alt=\"Open In Colab\"/></a>"
      ]
    },
    {
      "cell_type": "code",
      "metadata": {
        "id": "LTro6cEBoM96",
        "colab_type": "code",
        "colab": {}
      },
      "source": [
        "#Imports\n",
        "import pandas as pd\n",
        "import requests\n",
        "import json"
      ],
      "execution_count": 0,
      "outputs": []
    },
    {
      "cell_type": "code",
      "metadata": {
        "id": "yLrHArNtCNtM",
        "colab_type": "code",
        "colab": {}
      },
      "source": [
        "#Variables\n",
        "\n",
        "#https://retailnext.atlassian.net/wiki/spaces/KB/pages/145129473/API\n",
        "\n",
        "#Used this to convert the KB sample curl commands to valid python\n",
        "#https://curl.trillworks.com/#python\n",
        "\n",
        "\n",
        "toronto = '8c1d0d0a-9fdd-11e8-8003-0000e6e67141'\n",
        "newyork = '9282ba78-ee2f-11e8-9722-80007e030792'\n",
        "losangeles = '65c1be80-ac93-11e9-9a41-c0005e4bb78f'\n",
        "sanfrancisco = 'c3adc3bc-1a8f-11ea-955a-c000ff5d2ae7'\n",
        "\n",
        "name = \"mejuri-data-challenge\"\n",
        "#accesskey = \"e57bf8cc-63c0-11ea-913e-4000e9c9f3f6\"\n",
        "#secretkey = \"X6gx0QLttVV1LnPU4bJDH-p3W2c\"\n",
        "accesskeydemo = \"ce8d096a-1b4d-11e9-954f-00003e66782e\"\n",
        "servicekeydemo = \"dn2CgxioKDqQ8wOLJX3xPU6OIpk\"\n",
        "\n",
        "url = \"http://\" + \"demo\" + \".api.retailnext.net/v1/datamine\"\n",
        "#header = {\"content-type\": \"application/json\"}\n",
        "\n",
        "req = {}\n",
        "#req['locations'] = [toronto, newyork, losangeles, sanfrancisco]\n",
        "req[\"locations\"] = [\"00ecdd44-cf7b-11e5-9d57-80000799f9c4\", \"f5955970-cf7b-11e5-932f-40009cf74e86\"]\n",
        "req['time_ranges'] = [{\"type\":\"store_hours\"}]\n",
        "req[\"group_bys\"] = [{\"value\":1, \"unit\":\"hours\", \"group\":\"time\"}]\n",
        "req[\"date_ranges\"] = [{'first_day': '2019-12-09', 'last_day': '2019-12-09'}]\n",
        "req[\"metrics\"] = [\"traffic_in\", \"traffic_out\"]\n",
        "json_req = json.dumps(req)\n"
      ],
      "execution_count": 0,
      "outputs": []
    },
    {
      "cell_type": "code",
      "metadata": {
        "id": "fQ9p70fEnb6-",
        "colab_type": "code",
        "outputId": "ff0a6696-2b70-4ff6-a758-3417200b1b3f",
        "colab": {
          "base_uri": "https://localhost:8080/",
          "height": 53
        }
      },
      "source": [
        "print(url)\n",
        "r = requests.post(url,data=json_req, auth=(accesskey, secretkey))\n",
        "\n",
        "print(r)\n",
        "#x = r.json()\n",
        "#df = pd.DataFrame(x['teams'])\n",
        "#print(x)\n"
      ],
      "execution_count": 0,
      "outputs": [
        {
          "output_type": "stream",
          "text": [
            "http://demo.api.retailnext.net/v1/datamine\n",
            "<Response [404]>\n"
          ],
          "name": "stdout"
        }
      ]
    }
  ]
}